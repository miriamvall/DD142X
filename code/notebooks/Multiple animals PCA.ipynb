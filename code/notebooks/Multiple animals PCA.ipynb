{
 "cells": [
  {
   "cell_type": "markdown",
   "metadata": {},
   "source": [
    "#### Analysis of PCA of several animals"
   ]
  },
  {
   "cell_type": "code",
   "execution_count": 1,
   "metadata": {},
   "outputs": [
    {
     "name": "stdout",
     "output_type": "stream",
     "text": [
      "/home/gustav/Documents/DD142X/code/utilities\n"
     ]
    }
   ],
   "source": [
    "cd ../utilities/"
   ]
  },
  {
   "cell_type": "code",
   "execution_count": 2,
   "metadata": {},
   "outputs": [],
   "source": [
    "from features import ffv\n",
    "from matlab_util import str_lfp, gp_lfp\n",
    "from plotting import rasterize"
   ]
  },
  {
   "cell_type": "code",
   "execution_count": 3,
   "metadata": {},
   "outputs": [
    {
     "name": "stdout",
     "output_type": "stream",
     "text": [
      "/home/gustav/Documents/DD142X/code/_data/matlabData\n"
     ]
    }
   ],
   "source": [
    "cd ../_data/matlabData"
   ]
  },
  {
   "cell_type": "code",
   "execution_count": 4,
   "metadata": {
    "scrolled": true
   },
   "outputs": [
    {
     "name": "stdout",
     "output_type": "stream",
     "text": [
      "['NPR-075.b11.mat', 'NPR-075.b13.mat', 'NPR-075.c013.mat', 'NPR-075.c08.mat', 'NPR-075.d07.mat', 'NPR-076.b05.mat', 'NPR-076.b09.mat', 'NPR-076.c09.mat', 'NPR-076.d07.mat']\n"
     ]
    }
   ],
   "source": [
    "files = !ls\n",
    "print(files)"
   ]
  },
  {
   "cell_type": "code",
   "execution_count": 15,
   "metadata": {},
   "outputs": [
    {
     "name": "stdout",
     "output_type": "stream",
     "text": [
      "(65872, 2048)\n",
      "(97678, 2048)\n"
     ]
    }
   ],
   "source": [
    "import numpy as np\n",
    "import matplotlib.pyplot as plt\n",
    "\n",
    "ep = 2 ** 11\n",
    "\n",
    "str_epochs = np.concatenate([\n",
    "    str_lfp(filename, ep).reshape((-1, ep)) for filename in files\n",
    "], axis = 0)\n",
    "\n",
    "gp_epochs = np.concatenate([\n",
    "    gp_lfp(filename, ep).reshape((-1, ep)) for filename in files\n",
    "], axis = 0)\n",
    "\n",
    "print(str_epochs.shape)\n",
    "print(gp_epochs.shape)"
   ]
  },
  {
   "cell_type": "code",
   "execution_count": 16,
   "metadata": {},
   "outputs": [
    {
     "name": "stdout",
     "output_type": "stream",
     "text": [
      "(6587, 18)\n",
      "(6587, 18)\n",
      "(6587, 18)\n",
      "(6587, 18)\n",
      "(6587, 18)\n",
      "(6587, 18)\n",
      "(6587, 18)\n",
      "(6587, 18)\n",
      "(6587, 18)\n",
      "(6587, 18)\n",
      "(9767, 18)\n",
      "(9767, 18)\n",
      "(9767, 18)\n",
      "(9767, 18)\n",
      "(9767, 18)\n",
      "(9767, 18)\n",
      "(9767, 18)\n",
      "(9767, 18)\n",
      "(9767, 18)\n",
      "(9767, 18)\n"
     ]
    }
   ],
   "source": [
    "strides = 10\n",
    "\n",
    "incr_str = int(str_epochs.shape[0] / strides)\n",
    "strs = [\n",
    "    ffv(\n",
    "        str_epochs[i * incr_str : (i + 1) * incr_str],\n",
    "        epoch_size = ep\n",
    "    ) for i in range(0, strides)\n",
    "]\n",
    "\n",
    "incr_gp = int(gp_epochs.shape[0] / strides)\n",
    "gps = [\n",
    "    ffv(\n",
    "        gp_epochs[i * incr_gp : (i + 1) * incr_gp],\n",
    "        epoch_size = ep\n",
    "    ) for i in range(0, strides)\n",
    "]\n",
    "\n",
    "for str_, _ in strs:\n",
    "    print(str_.shape)\n",
    "for gp_, _ in gps:\n",
    "    print(gp_.shape)"
   ]
  },
  {
   "cell_type": "code",
   "execution_count": 17,
   "metadata": {},
   "outputs": [
    {
     "name": "stdout",
     "output_type": "stream",
     "text": [
      "[12.6953125 13.671875  14.6484375 15.625     16.6015625 17.578125\n",
      " 18.5546875 19.53125   20.5078125 21.484375  22.4609375 23.4375\n",
      " 24.4140625 25.390625  26.3671875 27.34375   28.3203125 29.296875 ]\n"
     ]
    }
   ],
   "source": [
    "frqs = strs[0][1]\n",
    "print(frqs)"
   ]
  },
  {
   "cell_type": "code",
   "execution_count": 18,
   "metadata": {},
   "outputs": [],
   "source": [
    "strs = [str_ for str_, _ in strs]\n",
    "gps = [ gp_ for gp_, _ in gps]"
   ]
  },
  {
   "cell_type": "code",
   "execution_count": 19,
   "metadata": {},
   "outputs": [
    {
     "name": "stdout",
     "output_type": "stream",
     "text": [
      "(10, 6587, 18)\n",
      "(10, 9767, 18)\n"
     ]
    }
   ],
   "source": [
    "strs = np.array(strs)\n",
    "gps = np.array(gps)\n",
    "print(strs.shape)\n",
    "print(gps.shape)"
   ]
  },
  {
   "cell_type": "code",
   "execution_count": 20,
   "metadata": {},
   "outputs": [
    {
     "name": "stdout",
     "output_type": "stream",
     "text": [
      "(65870, 18)\n",
      "(97670, 18)\n"
     ]
    }
   ],
   "source": [
    "strs = strs.reshape((-1, 18))\n",
    "gps = gps.reshape((-1, 18))\n",
    "print(strs.shape)\n",
    "print(gps.shape)"
   ]
  },
  {
   "cell_type": "code",
   "execution_count": 21,
   "metadata": {},
   "outputs": [
    {
     "name": "stdout",
     "output_type": "stream",
     "text": [
      "(163540, 18)\n"
     ]
    }
   ],
   "source": [
    "from sklearn.decomposition import PCA\n",
    "\n",
    "all_lfp = np.concatenate((strs, gps), axis = 0)\n",
    "print(all_lfp.shape)"
   ]
  },
  {
   "cell_type": "code",
   "execution_count": 22,
   "metadata": {},
   "outputs": [],
   "source": [
    "pca = PCA(n_components = 2).fit(all_lfp.copy())"
   ]
  },
  {
   "cell_type": "code",
   "execution_count": 23,
   "metadata": {},
   "outputs": [
    {
     "name": "stdout",
     "output_type": "stream",
     "text": [
      "(163540, 2)\n",
      "(65870, 2)\n",
      "(97670, 2)\n"
     ]
    }
   ],
   "source": [
    "pca_all = pca.transform(all_lfp.copy())\n",
    "pca_str = pca.transform(strs.copy())\n",
    "pca_gp  = pca.transform(gps.copy())\n",
    "\n",
    "print(pca_all.shape)\n",
    "print(pca_str.shape)\n",
    "print(pca_gp.shape)"
   ]
  },
  {
   "cell_type": "code",
   "execution_count": 24,
   "metadata": {},
   "outputs": [
    {
     "name": "stdout",
     "output_type": "stream",
     "text": [
      "PCA n = 163540\n"
     ]
    },
    {
     "data": {
      "image/png": "[encoded data removed]",
      "text/plain": [
       "<Figure size 432x288 with 2 Axes>"
      ]
     },
     "metadata": {
      "needs_background": "light"
     },
     "output_type": "display_data"
    },
    {
     "data": {
      "image/png": "[encoded data removed]",
      "text/plain": [
       "<Figure size 432x288 with 2 Axes>"
      ]
     },
     "metadata": {
      "needs_background": "light"
     },
     "output_type": "display_data"
    },
    {
     "data": {
      "image/png": "[encoded data removed]",
      "text/plain": [
       "<Figure size 432x288 with 2 Axes>"
      ]
     },
     "metadata": {
      "needs_background": "light"
     },
     "output_type": "display_data"
    }
   ],
   "source": [
    "print(\"PCA n = \" + str(pca_all.shape[0]))\n",
    "x1var, x2var = pca.explained_variance_ratio_\n",
    "x1var = round(x1var, 2)\n",
    "x2var = round(x2var, 2)\n",
    "\n",
    "raster_all = rasterize(pca_all)\n",
    "plt.imshow(raster_all, cmap = 'gray', vmin = np.min(raster_all), vmax = np.max(raster_all))\n",
    "plt.title(\"PCA n = \" + str(pca_all.shape[0]) + \", n = \" + str(pca_all.shape[0]))\n",
    "plt.xlabel(\"Explained variance ratio \" + str(x1var))\n",
    "plt.ylabel(\"Explained variance ratio \" + str(x2var))\n",
    "plt.colorbar()\n",
    "plt.show()\n",
    "\n",
    "raster_str = rasterize(pca_str)\n",
    "plt.imshow(raster_str, cmap = 'gray', vmin = np.min(raster_str), vmax = np.max(raster_str))\n",
    "plt.title(\"PCA n = \" + str(pca_all.shape[0]) + \", n = \" + str(pca_str.shape[0]))\n",
    "plt.xlabel(\"Explained variance ratio \" + str(x1var))\n",
    "plt.ylabel(\"Explained variance ratio \" + str(x2var))\n",
    "plt.colorbar()\n",
    "plt.show()\n",
    "\n",
    "raster_gp = rasterize(pca_gp)\n",
    "plt.imshow(raster_gp, cmap = 'gray', vmin = np.min(raster_gp), vmax = np.max(raster_gp))\n",
    "plt.title(\"PCA n = \" + str(pca_all.shape[0]) + \", n = \" + str(pca_gp.shape[0]))\n",
    "plt.xlabel(\"Explained variance ratio \" + str(x1var))\n",
    "plt.ylabel(\"Explained variance ratio \" + str(x2var))\n",
    "plt.colorbar()\n",
    "plt.show()"
   ]
  }
 ],
 "metadata": {
  "kernelspec": {
   "display_name": "Python 3",
   "language": "python",
   "name": "python3"
  },
  "language_info": {
   "codemirror_mode": {
    "name": "ipython",
    "version": 3
   },
   "file_extension": ".py",
   "mimetype": "text/x-python",
   "name": "python",
   "nbconvert_exporter": "python",
   "pygments_lexer": "ipython3",
   "version": "3.6.9"
  }
 },
 "nbformat": 4,
 "nbformat_minor": 4
}
