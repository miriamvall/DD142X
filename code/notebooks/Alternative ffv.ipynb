{
 "cells": [
  {
   "cell_type": "markdown",
   "metadata": {},
   "source": [
    "#### Alternative ffv implementation.\n",
    "Very slightly tested.\n",
    "Will generally perform worse (execution time) than older implementations.\n",
    "However; can be adjusted to avoid memory limitations.\n",
    "When performing np.fft.fft, memory equal to n_rows x fft_n x sizeof(float) is required to be allocated. \n",
    "This function allows for a workaround by recursively performing np.fft.fft on subsections of the input and returning concatenated output."
   ]
  },
  {
   "cell_type": "code",
   "execution_count": 30,
   "metadata": {},
   "outputs": [],
   "source": [
    "import numpy as np\n",
    "\n",
    "# Requires pre-reshaping of input xs\n",
    "# Each row should be one epoch, equal to epoch_size in length\n",
    "def alt_ffv(\n",
    "    xs,\n",
    "    Fs = 16000.,\n",
    "    epoch_size = 2 ** 11,\n",
    "    fft_n = 2 ** 14,\n",
    "    lo_f = 12,\n",
    "    hi_f = 30,\n",
    "    memory_var = 2 ** 14 # Decrease to allow usage with larger input\n",
    "):\n",
    "    frqs = np.fft.fftfreq(fft_n, 1. / Fs)\n",
    "    lo = np.where(frqs > lo_f)[0][0]\n",
    "    hi = np.where(frqs > hi_f)[0][0]\n",
    "    \n",
    "    # Helper recursive function\n",
    "    def fftrec(xxs):\n",
    "        if xxs.shape[0] > memory_var:\n",
    "            cutoff = int(xxs.shape[0] / 2)\n",
    "            return np.concatenate((\n",
    "                fftrec(xxs[0 : cutoff]),\n",
    "                fftrec(xxs[cutoff :  ])\n",
    "            ), axis = 0)\n",
    "        else:\n",
    "            return np.fft.fft(xxs, fft_n)\n",
    "        \n",
    "    fftxs = np.abs( fftrec(xs)[ : , lo : hi] )\n",
    "    return fftxs, frqs[lo : hi]"
   ]
  },
  {
   "cell_type": "markdown",
   "metadata": {},
   "source": [
    "#### Stands to benefit from further testing. Should be functionally equivalent to previous ffv, but has not been proven as such."
   ]
  }
 ],
 "metadata": {
  "kernelspec": {
   "display_name": "Python 3",
   "language": "python",
   "name": "python3"
  },
  "language_info": {
   "codemirror_mode": {
    "name": "ipython",
    "version": 3
   },
   "file_extension": ".py",
   "mimetype": "text/x-python",
   "name": "python",
   "nbconvert_exporter": "python",
   "pygments_lexer": "ipython3",
   "version": "3.6.9"
  }
 },
 "nbformat": 4,
 "nbformat_minor": 2
}
